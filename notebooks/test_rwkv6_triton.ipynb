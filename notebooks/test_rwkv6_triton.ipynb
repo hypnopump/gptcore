{
 "cells": [
  {
   "cell_type": "code",
   "execution_count": null,
   "metadata": {},
   "outputs": [],
   "source": [
    "import torch as th\n",
    "\n",
    "from ..model.experimental.rwkv_inner import rwkv_inner\n",
    "from fla.ops.rwkv_6.recurrent_fuse import fused_recurrent_rwkv6"
   ]
  },
  {
   "cell_type": "markdown",
   "metadata": {},
   "source": []
  },
  {
   "cell_type": "code",
   "execution_count": null,
   "metadata": {},
   "outputs": [],
   "source": [
    "rwkv_inner"
   ]
  },
  {
   "cell_type": "code",
   "execution_count": null,
   "metadata": {},
   "outputs": [],
   "source": [
    "\n",
    "B, H, L, K, V = 2, 4, 256, 64, 64\n",
    "\n",
    "r, k, v, w = th.randn(4, B, H, L, K).cuda()\n",
    "w = w.sigmoid()\n",
    "u = th.randn(H, K).cuda()\n",
    "\n",
    "r.requires_grad = True\n",
    "k.requires_grad = True\n",
    "v.requires_grad = True\n",
    "w.requires_grad = True\n",
    "u.requires_grad = True\n",
    "\n",
    "o, state = fused_recurrent_rwkv6(r, k, v, w, u)\n",
    "\n",
    "print(o.shape)\n",
    "o.mean().backward()\n",
    "print(u.grad.shape)\n",
    "print(w.grad)"
   ]
  }
 ],
 "metadata": {
  "language_info": {
   "name": "python"
  }
 },
 "nbformat": 4,
 "nbformat_minor": 2
}
